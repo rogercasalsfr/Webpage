{
 "cells": [
  {
   "cell_type": "markdown",
   "id": "1160d3a8-5316-4f91-a4b1-bef2495280db",
   "metadata": {},
   "source": [
    "---\n",
    "title: My post's title\n",
    "date: 2019-09-01\n",
    "\n",
    "# Put any other Academic metadata here...\n",
    "---\n"
   ]
  },
  {
   "cell_type": "code",
   "execution_count": null,
   "id": "5db2c533-4599-4f20-a3f8-7efc802f1330",
   "metadata": {},
   "outputs": [],
   "source": [
    "jupyter nbconvert index.ipynb --to markdown --NbConvertApp.output_files_dir=.\n"
   ]
  }
 ],
 "metadata": {
  "kernelspec": {
   "display_name": "Python 3 (ipykernel)",
   "language": "python",
   "name": "python3"
  },
  "language_info": {
   "codemirror_mode": {
    "name": "ipython",
    "version": 3
   },
   "file_extension": ".py",
   "mimetype": "text/x-python",
   "name": "python",
   "nbconvert_exporter": "python",
   "pygments_lexer": "ipython3",
   "version": "3.8.18"
  }
 },
 "nbformat": 4,
 "nbformat_minor": 5
}
