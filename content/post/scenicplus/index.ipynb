{
 "cells": [
  {
   "cell_type": "code",
   "execution_count": 1,
   "id": "23f2d1f3-fd5c-41a3-9b9f-902b704fc28c",
   "metadata": {},
   "outputs": [],
   "source": [
    "#Install and import libraries\n",
    "\n",
    "import dill\n",
    "import scanpy as sc\n",
    "import os\n",
    "import warnings\n",
    "warnings.filterwarnings(\"ignore\")\n",
    "import pandas as pd\n",
    "import pyranges\n",
    "import sys\n",
    "# Set stderr to null to avoid strange messages from ray\n",
    "_stderr = sys.stderr\n",
    "\n",
    "import pickle\n",
    "from scenicplus.wrappers.run_scenicplus import run_scenicplus\n",
    "null = open(os.devnull,'wb')\n",
    "\n",
    "\n",
    "#Change directories\n",
    "#!wget -O pbmc_tutorial/data/utoronto_human_tfs_v_1.01.txt  http://humantfs.ccbr.utoronto.ca/download/v_1.01/TF_names_v_1.01.txt\n",
    "#!wget -O pbmc_tutorial/bedToBigBed http://hgdownload.soe.ucsc.edu/admin/exe/linux.x86_64/bedToBigBed\n",
    "#!chmod +x pbmc_tutorial/bedToBigBed\n",
    "\n",
    "\n",
    "biomart_host = \"http://sep2019.archive.ensembl.org/\"\n",
    "\n",
    "\n",
    "#with open('/home/roger/Github/OpenProblems/Conda/scenicplus/scplus_obj.pkl', 'rb') as f:\n",
    "   # scplus_obj = pickle.load(f)\n",
    "\n",
    "scplus_obj = pd.read_pickle(\"/home/roger/Github/OpenProblems/Conda/scenicplus/scplus_obj.pkl\")\n"
   ]
  },
  {
   "cell_type": "code",
   "execution_count": null,
   "id": "66259a7e-3a2e-4e9f-841f-ef5fc4154f63",
   "metadata": {},
   "outputs": [],
   "source": []
  },
  {
   "cell_type": "code",
   "execution_count": 3,
   "id": "1b9d071e-7cab-4f25-afbe-868117d73d22",
   "metadata": {},
   "outputs": [
    {
     "name": "stdout",
     "output_type": "stream",
     "text": [
      "2023-12-14 12:27:46,784 R2G          INFO     Downloading gene annotation from biomart dataset: hsapiens_gene_ensembl\n",
      "2023-12-14 12:28:54,037 R2G          INFO     Downloading chromosome sizes from: http://hgdownload.cse.ucsc.edu/goldenPath/hg38/bigZips/hg38.chrom.sizes\n",
      "2023-12-14 12:28:58,406 R2G          INFO     Extending promoter annotation to 10 bp upstream and 10 downstream\n",
      "Warning! Start and End columns now have different dtypes: int32 and int64\n",
      "Warning! Start and End columns now have different dtypes: int32 and int64\n",
      "2023-12-14 12:29:01,264 R2G          INFO     Extending search space to:\n",
      "            \t\t\t\t\t\t150000 bp downstream of the end of the gene.\n",
      "            \t\t\t\t\t\t150000 bp upstream of the start of the gene.\n",
      "Warning! Start and End columns now have different dtypes: int32 and int64\n",
      "Warning! Start and End columns now have different dtypes: int32 and int64\n",
      "2023-12-14 12:29:11,767 R2G          INFO     Intersecting with regions.\n",
      "Warning! Start and End columns now have different dtypes: int32 and int64\n",
      "2023-12-14 12:29:12,240 R2G          INFO     Calculating distances from region to gene\n"
     ]
    },
    {
     "name": "stderr",
     "output_type": "stream",
     "text": [
      "join: Strand data from other will be added as strand data to self.\n",
      "If this is undesired use the flag apply_strand_suffix=False.\n",
      "To turn off the warning set apply_strand_suffix to True or False.\n"
     ]
    },
    {
     "name": "stdout",
     "output_type": "stream",
     "text": [
      "2023-12-14 12:29:27,036 R2G          INFO     Imploding multiple entries per region and gene\n",
      "2023-12-14 12:31:08,372 R2G          INFO     Done!\n"
     ]
    }
   ],
   "source": [
    "\n",
    "\n",
    "from scenicplus.enhancer_to_gene import get_search_space, calculate_regions_to_genes_relationships, GBM_KWARGS\n",
    "get_search_space(scplus_obj,\n",
    "                 biomart_host = biomart_host,\n",
    "                 species = 'hsapiens',\n",
    "                 assembly = 'hg38',\n",
    "                 upstream = [1000, 150000],\n",
    "                 downstream = [1000, 150000])\n",
    "\n"
   ]
  },
  {
   "cell_type": "code",
   "execution_count": 7,
   "id": "9155833e-b932-48da-ae0b-c786711660a7",
   "metadata": {},
   "outputs": [],
   "source": [
    "work_dir='/home/roger/Github/OpenProblems/Conda/scenicplus/prova'\n",
    "pickle.dump(scplus_obj,\n",
    "            open(os.path.join(work_dir, 'scplus_obj.pkl'), 'wb'))"
   ]
  },
  {
   "cell_type": "code",
   "execution_count": 8,
   "id": "af09f1c1-db7b-43d1-9e3b-8a9fc4b6ec1a",
   "metadata": {},
   "outputs": [
    {
     "name": "stdout",
     "output_type": "stream",
     "text": [
      "2023-12-14 13:05:43,192 R2G          INFO     Calculating region to gene importances, using GBM method\n"
     ]
    },
    {
     "name": "stderr",
     "output_type": "stream",
     "text": [
      "2023-12-14 13:05:47,690\tINFO worker.py:1664 -- Started a local Ray instance. View the dashboard at \u001b[1m\u001b[32mhttp://127.0.0.1:8265 \u001b[39m\u001b[22m\n",
      "initializing:  92%|█████████████████████▏ | 14081/15243 [09:09<01:24, 13.75it/s]\u001b[36m(raylet)\u001b[0m Spilled 8863 MiB, 9111 objects, write throughput 2524 MiB/s. Set RAY_verbose_spill_logs=0 to disable this message.\n",
      "initializing:  92%|█████████████████████▎ | 14087/15243 [09:10<02:55,  6.57it/s]\u001b[36m(raylet)\u001b[0m Spilled 10823 MiB, 11121 objects, write throughput 2565 MiB/s.\n",
      "initializing:  92%|█████████████████████▎ | 14094/15243 [09:11<03:13,  5.93it/s]\u001b[36m(raylet)\u001b[0m Spilled 10830 MiB, 11127 objects, write throughput 2560 MiB/s.\n",
      "initializing: 100%|███████████████████████| 15243/15243 [12:15<00:00, 20.72it/s]\n",
      "Running using 6 cores: 100%|██████████████| 15243/15243 [25:37<00:00,  9.91it/s]\n"
     ]
    },
    {
     "name": "stdout",
     "output_type": "stream",
     "text": [
      "2023-12-14 13:43:43,551 R2G          INFO     Took 2280.3574900627136 seconds\n",
      "2023-12-14 13:43:43,554 R2G          INFO     Calculating region to gene correlation, using SR method\n"
     ]
    },
    {
     "name": "stderr",
     "output_type": "stream",
     "text": [
      "2023-12-14 13:43:46,631\tINFO worker.py:1664 -- Started a local Ray instance. View the dashboard at \u001b[1m\u001b[32mhttp://127.0.0.1:8265 \u001b[39m\u001b[22m\n",
      "initializing:   1%|▎                        | 175/15243 [00:05<08:38, 29.03it/s]\u001b[36m(_score_regions_to_single_gene_ray pid=106233)\u001b[0m /home/roger/.local/lib/python3.8/site-packages/scipy/stats/_stats_py.py:4916: ConstantInputWarning: An input array is constant; the correlation coefficient is not defined.\n",
      "\u001b[36m(_score_regions_to_single_gene_ray pid=106233)\u001b[0m   warnings.warn(stats.ConstantInputWarning(warn_msg))\n",
      "initializing:   9%|██▏                     | 1384/15243 [00:38<06:17, 36.69it/s]\u001b[36m(_score_regions_to_single_gene_ray pid=106233)\u001b[0m /home/roger/.local/lib/python3.8/site-packages/scipy/stats/_stats_py.py:4916: ConstantInputWarning: An input array is constant; the correlation coefficient is not defined.\n",
      "\u001b[36m(_score_regions_to_single_gene_ray pid=106233)\u001b[0m   warnings.warn(stats.ConstantInputWarning(warn_msg))\n",
      "initializing:  20%|████▊                   | 3020/15243 [01:22<05:40, 35.88it/s]\u001b[36m(_score_regions_to_single_gene_ray pid=106232)\u001b[0m /home/roger/.local/lib/python3.8/site-packages/scipy/stats/_stats_py.py:4916: ConstantInputWarning: An input array is constant; the correlation coefficient is not defined.\n",
      "\u001b[36m(_score_regions_to_single_gene_ray pid=106232)\u001b[0m   warnings.warn(stats.ConstantInputWarning(warn_msg))\n",
      "initializing:  21%|█████                   | 3196/15243 [01:27<05:38, 35.62it/s]\u001b[36m(_score_regions_to_single_gene_ray pid=106232)\u001b[0m /home/roger/.local/lib/python3.8/site-packages/scipy/stats/_stats_py.py:4916: ConstantInputWarning: An input array is constant; the correlation coefficient is not defined.\n",
      "\u001b[36m(_score_regions_to_single_gene_ray pid=106232)\u001b[0m   warnings.warn(stats.ConstantInputWarning(warn_msg))\n",
      "initializing:  24%|█████▋                  | 3588/15243 [01:38<05:19, 36.52it/s]\u001b[36m(_score_regions_to_single_gene_ray pid=106228)\u001b[0m /home/roger/.local/lib/python3.8/site-packages/scipy/stats/_stats_py.py:4916: ConstantInputWarning: An input array is constant; the correlation coefficient is not defined.\n",
      "\u001b[36m(_score_regions_to_single_gene_ray pid=106228)\u001b[0m   warnings.warn(stats.ConstantInputWarning(warn_msg))\n",
      "initializing:  40%|█████████▌              | 6112/15243 [02:47<04:16, 35.62it/s]\u001b[36m(_score_regions_to_single_gene_ray pid=106228)\u001b[0m /home/roger/.local/lib/python3.8/site-packages/scipy/stats/_stats_py.py:4916: ConstantInputWarning: An input array is constant; the correlation coefficient is not defined.\n",
      "\u001b[36m(_score_regions_to_single_gene_ray pid=106228)\u001b[0m   warnings.warn(stats.ConstantInputWarning(warn_msg))\n",
      "initializing:  48%|███████████▍            | 7292/15243 [03:20<03:38, 36.32it/s]\u001b[36m(_score_regions_to_single_gene_ray pid=106232)\u001b[0m /home/roger/.local/lib/python3.8/site-packages/scipy/stats/_stats_py.py:4916: ConstantInputWarning: An input array is constant; the correlation coefficient is not defined.\n",
      "\u001b[36m(_score_regions_to_single_gene_ray pid=106232)\u001b[0m   warnings.warn(stats.ConstantInputWarning(warn_msg))\n",
      "initializing:  48%|███████████▌            | 7320/15243 [03:20<03:41, 35.83it/s]\u001b[36m(_score_regions_to_single_gene_ray pid=106232)\u001b[0m /home/roger/.local/lib/python3.8/site-packages/scipy/stats/_stats_py.py:4916: ConstantInputWarning: An input array is constant; the correlation coefficient is not defined.\n",
      "\u001b[36m(_score_regions_to_single_gene_ray pid=106232)\u001b[0m   warnings.warn(stats.ConstantInputWarning(warn_msg))\n",
      "initializing:  48%|███████████▌            | 7324/15243 [03:21<03:39, 36.04it/s]\u001b[36m(_score_regions_to_single_gene_ray pid=106232)\u001b[0m /home/roger/.local/lib/python3.8/site-packages/scipy/stats/_stats_py.py:4916: ConstantInputWarning: An input array is constant; the correlation coefficient is not defined.\n",
      "\u001b[36m(_score_regions_to_single_gene_ray pid=106232)\u001b[0m   warnings.warn(stats.ConstantInputWarning(warn_msg))\n",
      "initializing:  49%|███████████▊            | 7516/15243 [03:26<03:34, 36.03it/s]\u001b[36m(_score_regions_to_single_gene_ray pid=106229)\u001b[0m /home/roger/.local/lib/python3.8/site-packages/scipy/stats/_stats_py.py:4916: ConstantInputWarning: An input array is constant; the correlation coefficient is not defined.\n",
      "\u001b[36m(_score_regions_to_single_gene_ray pid=106229)\u001b[0m   warnings.warn(stats.ConstantInputWarning(warn_msg))\n",
      "initializing:  53%|████████████▌           | 8004/15243 [03:39<03:13, 37.42it/s]\u001b[36m(_score_regions_to_single_gene_ray pid=106229)\u001b[0m /home/roger/.local/lib/python3.8/site-packages/scipy/stats/_stats_py.py:4916: ConstantInputWarning: An input array is constant; the correlation coefficient is not defined.\n",
      "\u001b[36m(_score_regions_to_single_gene_ray pid=106229)\u001b[0m   warnings.warn(stats.ConstantInputWarning(warn_msg))\n",
      "initializing:  55%|█████████████▎          | 8452/15243 [03:52<03:07, 36.17it/s]\u001b[36m(_score_regions_to_single_gene_ray pid=106228)\u001b[0m /home/roger/.local/lib/python3.8/site-packages/scipy/stats/_stats_py.py:4916: ConstantInputWarning: An input array is constant; the correlation coefficient is not defined.\n",
      "\u001b[36m(_score_regions_to_single_gene_ray pid=106228)\u001b[0m   warnings.warn(stats.ConstantInputWarning(warn_msg))\n",
      "initializing:  59%|██████████████▏         | 8972/15243 [04:06<02:53, 36.13it/s]\u001b[36m(_score_regions_to_single_gene_ray pid=106232)\u001b[0m /home/roger/.local/lib/python3.8/site-packages/scipy/stats/_stats_py.py:4916: ConstantInputWarning: An input array is constant; the correlation coefficient is not defined.\n",
      "\u001b[36m(_score_regions_to_single_gene_ray pid=106232)\u001b[0m   warnings.warn(stats.ConstantInputWarning(warn_msg))\n",
      "initializing:  61%|██████████████▌         | 9260/15243 [04:14<02:52, 34.78it/s]\u001b[36m(_score_regions_to_single_gene_ray pid=106228)\u001b[0m /home/roger/.local/lib/python3.8/site-packages/scipy/stats/_stats_py.py:4916: ConstantInputWarning: An input array is constant; the correlation coefficient is not defined.\n",
      "\u001b[36m(_score_regions_to_single_gene_ray pid=106228)\u001b[0m   warnings.warn(stats.ConstantInputWarning(warn_msg))\n",
      "initializing:  62%|██████████████▉         | 9504/15243 [04:21<02:40, 35.85it/s]\u001b[36m(_score_regions_to_single_gene_ray pid=106232)\u001b[0m /home/roger/.local/lib/python3.8/site-packages/scipy/stats/_stats_py.py:4916: ConstantInputWarning: An input array is constant; the correlation coefficient is not defined.\n",
      "\u001b[36m(_score_regions_to_single_gene_ray pid=106232)\u001b[0m   warnings.warn(stats.ConstantInputWarning(warn_msg))\n",
      "initializing:  80%|██████████████████▍    | 12192/15243 [05:35<01:22, 37.18it/s]\u001b[36m(_score_regions_to_single_gene_ray pid=106232)\u001b[0m /home/roger/.local/lib/python3.8/site-packages/scipy/stats/_stats_py.py:4916: ConstantInputWarning: An input array is constant; the correlation coefficient is not defined.\u001b[32m [repeated 2x across cluster] (Ray deduplicates logs by default. Set RAY_DEDUP_LOGS=0 to disable log deduplication, or see https://docs.ray.io/en/master/ray-observability/ray-logging.html#log-deduplication for more options.)\u001b[0m\n",
      "\u001b[36m(_score_regions_to_single_gene_ray pid=106232)\u001b[0m   warnings.warn(stats.ConstantInputWarning(warn_msg))\u001b[32m [repeated 2x across cluster]\u001b[0m\n",
      "initializing:  83%|██████████████████▉    | 12580/15243 [05:45<01:11, 37.49it/s]\u001b[36m(_score_regions_to_single_gene_ray pid=106233)\u001b[0m /home/roger/.local/lib/python3.8/site-packages/scipy/stats/_stats_py.py:4916: ConstantInputWarning: An input array is constant; the correlation coefficient is not defined.\n",
      "\u001b[36m(_score_regions_to_single_gene_ray pid=106233)\u001b[0m   warnings.warn(stats.ConstantInputWarning(warn_msg))\n",
      "initializing:  83%|███████████████████    | 12628/15243 [05:46<01:11, 36.54it/s]\u001b[36m(_score_regions_to_single_gene_ray pid=106233)\u001b[0m /home/roger/.local/lib/python3.8/site-packages/scipy/stats/_stats_py.py:4916: ConstantInputWarning: An input array is constant; the correlation coefficient is not defined.\n",
      "\u001b[36m(_score_regions_to_single_gene_ray pid=106233)\u001b[0m   warnings.warn(stats.ConstantInputWarning(warn_msg))\n",
      "initializing:  92%|█████████████████████  | 13972/15243 [06:23<00:34, 36.31it/s]\u001b[36m(_score_regions_to_single_gene_ray pid=106228)\u001b[0m /home/roger/.local/lib/python3.8/site-packages/scipy/stats/_stats_py.py:4916: ConstantInputWarning: An input array is constant; the correlation coefficient is not defined.\n",
      "\u001b[36m(_score_regions_to_single_gene_ray pid=106228)\u001b[0m   warnings.warn(stats.ConstantInputWarning(warn_msg))\n",
      "initializing: 100%|███████████████████████| 15243/15243 [06:57<00:00, 36.51it/s]\n",
      "Running using 6 cores: 100%|█████████████| 15243/15243 [01:00<00:00, 252.12it/s]\n"
     ]
    },
    {
     "name": "stdout",
     "output_type": "stream",
     "text": [
      "2023-12-14 13:51:46,402 R2G          INFO     Took 482.8466486930847 seconds\n",
      "2023-12-14 13:51:53,255 R2G          INFO     Done!\n"
     ]
    }
   ],
   "source": [
    "from scenicplus.enhancer_to_gene import get_search_space, calculate_regions_to_genes_relationships, GBM_KWARGS\n",
    "calculate_regions_to_genes_relationships(scplus_obj,\n",
    "                    ray_n_cpu = 6,\n",
    "                    _temp_dir = '/home/roger/tempdir_rayspill',\n",
    "                    importance_scoring_method = 'GBM',\n",
    "                    importance_scoring_kwargs = GBM_KWARGS)\n",
    "\n",
    "# Save\n",
    "import pickle\n",
    "with open('/home/uvic24/uvic24987/scplus_obj.pkl', 'wb') as f:\n",
    "  pickle.dump(scplus_obj, f)\n"
   ]
  },
  {
   "cell_type": "code",
   "execution_count": null,
   "id": "98fb02a5-f212-45d4-88da-bbdc39ac226f",
   "metadata": {},
   "outputs": [],
   "source": []
  },
  {
   "cell_type": "code",
   "execution_count": 11,
   "id": "08253b58-ab59-413c-b046-36610297a24d",
   "metadata": {},
   "outputs": [],
   "source": [
    "tf_file = '/home/roger/Github/OpenProblems/Conda/scenicplus/allTFs_hg38.txt'"
   ]
  },
  {
   "cell_type": "code",
   "execution_count": 13,
   "id": "4a469f97-4cd3-41b8-91e5-24afa8321027",
   "metadata": {},
   "outputs": [
    {
     "name": "stderr",
     "output_type": "stream",
     "text": [
      "2023-12-14 13:59:35,382\tINFO worker.py:1664 -- Started a local Ray instance. View the dashboard at \u001b[1m\u001b[32mhttp://127.0.0.1:8265 \u001b[39m\u001b[22m\n"
     ]
    },
    {
     "name": "stdout",
     "output_type": "stream",
     "text": [
      "2023-12-14 13:59:36,117 TF2G         INFO     Calculating TF to gene correlation, using GBM method\n"
     ]
    },
    {
     "name": "stderr",
     "output_type": "stream",
     "text": [
      "initializing:   0%|                                                   | 20/22787 [00:08<3:43:55,  1.69it/s]\u001b[36m(raylet)\u001b[0m Spilled 2222 MiB, 11 objects, write throughput 822 MiB/s. Set RAY_verbose_spill_logs=0 to disable this message.\n",
      "initializing:   0%|                                                   | 21/22787 [00:08<3:11:04,  1.99it/s]\u001b[36m(raylet)\u001b[0m Spilled 4355 MiB, 18 objects, write throughput 935 MiB/s.\n",
      "initializing:   0%|                                                   | 26/22787 [00:12<3:25:05,  1.85it/s]\u001b[36m(raylet)\u001b[0m Spilled 16605 MiB, 67 objects, write throughput 2032 MiB/s.\n",
      "initializing:   0%|                                                   | 44/22787 [00:16<1:03:11,  6.00it/s]\u001b[36m(raylet)\u001b[0m Spilled 17331 MiB, 70 objects, write throughput 1862 MiB/s.\n",
      "initializing:   0%|▏                                                    | 68/22787 [00:25<45:59,  8.23it/s]\u001b[36m(raylet)\u001b[0m Spilled 34662 MiB, 141 objects, write throughput 1983 MiB/s.\n",
      "initializing:   1%|▎                                                 | 132/22787 [00:54<5:12:51,  1.21it/s]\u001b[36m(raylet)\u001b[0m Spilled 65880 MiB, 257 objects, write throughput 1538 MiB/s.\n",
      "initializing:   1%|▋                                                 | 294/22787 [01:44<2:17:41,  2.72it/s]\u001b[36m(raylet)\u001b[0m Spilled 132081 MiB, 507 objects, write throughput 1425 MiB/s.\n",
      "initializing:   3%|█▌                                                | 687/22787 [04:00<2:26:04,  2.52it/s]\u001b[36m(raylet)\u001b[0m Spilled 262485 MiB, 1003 objects, write throughput 1162 MiB/s.\n",
      "initializing:   6%|██▉                                              | 1358/22787 [07:53<1:46:17,  3.36it/s]\u001b[36m(raylet)\u001b[0m Spilled 524898 MiB, 1973 objects, write throughput 1181 MiB/s.\n",
      "initializing:  10%|████▊                                            | 2236/22787 [12:49<1:20:02,  4.28it/s]\u001b[36m(raylet)\u001b[0m Spilled 1053198 MiB, 4072 objects, write throughput 1530 MiB/s.\n",
      "initializing:  17%|████████▌                                        | 3957/22787 [22:39<1:41:14,  3.10it/s]\u001b[36m(raylet)\u001b[0m Spilled 2103668 MiB, 8272 objects, write throughput 1784 MiB/s.\n",
      "initializing:  33%|███████████████▉                                 | 7438/22787 [42:27<1:43:19,  2.48it/s]\u001b[36m(raylet)\u001b[0m Spilled 4195806 MiB, 16635 objects, write throughput 1949 MiB/s.\n",
      "initializing:  63%|██████████████████████████████▏                 | 14343/22787 [1:22:37<35:39,  3.95it/s]\u001b[36m(raylet)\u001b[0m Spilled 8389942 MiB, 33335 objects, write throughput 2026 MiB/s.\n",
      "initializing: 100%|████████████████████████████████████████████████| 22787/22787 [2:11:31<00:00,  2.89it/s]\n",
      "Running using 6 cores: 100%|████████████████████████████████████████| 22787/22787 [02:39<00:00, 142.62it/s]\n"
     ]
    },
    {
     "name": "stdout",
     "output_type": "stream",
     "text": [
      "2023-12-14 16:13:49,736 TF2G         INFO     Took 8053.618492841721 seconds\n",
      "2023-12-14 16:13:49,738 TF2G         INFO     Adding correlation coefficients to adjacencies.\n",
      "2023-12-14 16:14:16,630 TF2G         INFO     Warning: adding TFs as their own target to adjecencies matrix. Importance values will be max + 1e-05\n",
      "2023-12-14 16:14:21,211 TF2G         INFO     Adding importance x rho scores to adjacencies.\n",
      "2023-12-14 16:14:21,227 TF2G         INFO     Took 31.489516496658325 seconds\n"
     ]
    }
   ],
   "source": [
    "from scenicplus.TF_to_gene import *\n",
    "calculate_TFs_to_genes_relationships(scplus_obj,\n",
    "                    tf_file = tf_file,\n",
    "                    ray_n_cpu = 6,\n",
    "                    method = 'GBM',\n",
    "                    _temp_dir = '/home/roger/tempdir_rayspill',\n",
    "                    key= 'TF2G_adj')"
   ]
  },
  {
   "cell_type": "code",
   "execution_count": null,
   "id": "c1aa1eaf-491e-49fc-b05d-a2f314b3393d",
   "metadata": {},
   "outputs": [],
   "source": [
    "# Load functions\n",
    "from scenicplus.grn_builder.gsea_approach import build_grn\n",
    "\n",
    "build_grn(scplus_obj,\n",
    "         min_target_genes = 10,\n",
    "         adj_pval_thr = 1,\n",
    "         min_regions_per_gene = 0,\n",
    "         quantiles = (0.85, 0.90, 0.95),\n",
    "         top_n_regionTogenes_per_gene = (5, 10, 15),\n",
    "         top_n_regionTogenes_per_region = (),\n",
    "         binarize_using_basc = True,\n",
    "         rho_dichotomize_tf2g = True,\n",
    "         rho_dichotomize_r2g = True,\n",
    "         rho_dichotomize_eregulon = True,\n",
    "         rho_threshold = 0.05,\n",
    "         keep_extended_motif_annot = True,\n",
    "         merge_eRegulons = True,\n",
    "         order_regions_to_genes_by = 'importance',\n",
    "         order_TFs_to_genes_by = 'importance',\n",
    "         key_added = 'eRegulons_importance',\n",
    "         cistromes_key = 'Unfiltered',\n",
    "         disable_tqdm = False, #If running in notebook, set to True\n",
    "         ray_n_cpu = 10,\n",
    "         _temp_dir = '/home/roger/tempdir_rayspill')\n"
   ]
  },
  {
   "cell_type": "code",
   "execution_count": null,
   "id": "df88362e-887b-4a0b-8ce1-5cfdd3914df6",
   "metadata": {},
   "outputs": [],
   "source": []
  },
  {
   "cell_type": "code",
   "execution_count": 4,
   "id": "79e28bb5-6a06-4989-b4c8-818236793ab1",
   "metadata": {},
   "outputs": [
    {
     "name": "stdout",
     "output_type": "stream",
     "text": [
      "2023-12-14 12:33:20,494 SCENIC+_wrapper INFO     /home/roger/Github/OpenProblems/Conda/scenicplus/Tutorial folder already exists.\n",
      "2023-12-14 12:33:20,495 SCENIC+_wrapper INFO     Merging cistromes\n",
      "2023-12-14 12:33:55,737 SCENIC+_wrapper INFO     Inferring region to gene relationships\n",
      "2023-12-14 12:33:55,792 R2G          INFO     Calculating region to gene importances, using GBM method\n"
     ]
    },
    {
     "name": "stderr",
     "output_type": "stream",
     "text": [
      "2023-12-14 12:33:59,287\tINFO worker.py:1664 -- Started a local Ray instance. View the dashboard at \u001b[1m\u001b[32mhttp://127.0.0.1:8265 \u001b[39m\u001b[22m\n",
      "initializing:   1%|▏                        | 126/15243 [00:05<11:30, 21.91it/s]\n"
     ]
    },
    {
     "ename": "KeyboardInterrupt",
     "evalue": "",
     "output_type": "error",
     "traceback": [
      "\u001b[0;31m---------------------------------------------------------------------------\u001b[0m",
      "\u001b[0;31mKeyboardInterrupt\u001b[0m                         Traceback (most recent call last)",
      "Cell \u001b[0;32mIn[4], line 1\u001b[0m\n\u001b[0;32m----> 1\u001b[0m \u001b[43mrun_scenicplus\u001b[49m\u001b[43m(\u001b[49m\n\u001b[1;32m      2\u001b[0m \u001b[43m        \u001b[49m\u001b[43mscplus_obj\u001b[49m\u001b[43m \u001b[49m\u001b[38;5;241;43m=\u001b[39;49m\u001b[43m \u001b[49m\u001b[43mscplus_obj\u001b[49m\u001b[43m,\u001b[49m\n\u001b[1;32m      3\u001b[0m \u001b[43m        \u001b[49m\u001b[43mvariable\u001b[49m\u001b[43m \u001b[49m\u001b[38;5;241;43m=\u001b[39;49m\u001b[43m \u001b[49m\u001b[43m[\u001b[49m\u001b[38;5;124;43m'\u001b[39;49m\u001b[38;5;124;43mGEX_celltype\u001b[39;49m\u001b[38;5;124;43m'\u001b[39;49m\u001b[43m]\u001b[49m\u001b[43m,\u001b[49m\n\u001b[1;32m      4\u001b[0m \u001b[43m        \u001b[49m\u001b[43mspecies\u001b[49m\u001b[43m \u001b[49m\u001b[38;5;241;43m=\u001b[39;49m\u001b[43m \u001b[49m\u001b[38;5;124;43m'\u001b[39;49m\u001b[38;5;124;43mhsapiens\u001b[39;49m\u001b[38;5;124;43m'\u001b[39;49m\u001b[43m,\u001b[49m\n\u001b[1;32m      5\u001b[0m \u001b[43m        \u001b[49m\u001b[43massembly\u001b[49m\u001b[43m \u001b[49m\u001b[38;5;241;43m=\u001b[39;49m\u001b[43m \u001b[49m\u001b[38;5;124;43m'\u001b[39;49m\u001b[38;5;124;43mhg38\u001b[39;49m\u001b[38;5;124;43m'\u001b[39;49m\u001b[43m,\u001b[49m\n\u001b[1;32m      6\u001b[0m \u001b[43m        \u001b[49m\u001b[43mtf_file\u001b[49m\u001b[43m \u001b[49m\u001b[38;5;241;43m=\u001b[39;49m\u001b[43m \u001b[49m\u001b[38;5;124;43m'\u001b[39;49m\u001b[38;5;124;43m/home/roger/Github/OpenProblems/Conda/scenicplus/TF_names_v_1.01.txt\u001b[39;49m\u001b[38;5;124;43m'\u001b[39;49m\u001b[43m,\u001b[49m\n\u001b[1;32m      7\u001b[0m \u001b[43m        \u001b[49m\u001b[43msave_path\u001b[49m\u001b[43m \u001b[49m\u001b[38;5;241;43m=\u001b[39;49m\u001b[43m \u001b[49m\u001b[43mos\u001b[49m\u001b[38;5;241;43m.\u001b[39;49m\u001b[43mpath\u001b[49m\u001b[38;5;241;43m.\u001b[39;49m\u001b[43mjoin\u001b[49m\u001b[43m(\u001b[49m\u001b[38;5;124;43m'\u001b[39;49m\u001b[38;5;124;43m/home/roger/Github/OpenProblems/Conda/scenicplus/Tutorial\u001b[39;49m\u001b[38;5;124;43m'\u001b[39;49m\u001b[43m)\u001b[49m\u001b[43m,\u001b[49m\n\u001b[1;32m      8\u001b[0m \u001b[43m        \u001b[49m\u001b[38;5;66;43;03m#biomart_host = biomart_host,\u001b[39;49;00m\n\u001b[1;32m      9\u001b[0m \u001b[43m        \u001b[49m\u001b[43mupstream\u001b[49m\u001b[43m \u001b[49m\u001b[38;5;241;43m=\u001b[39;49m\u001b[43m \u001b[49m\u001b[43m[\u001b[49m\u001b[38;5;241;43m1000\u001b[39;49m\u001b[43m,\u001b[49m\u001b[43m \u001b[49m\u001b[38;5;241;43m150000\u001b[39;49m\u001b[43m]\u001b[49m\u001b[43m,\u001b[49m\n\u001b[1;32m     10\u001b[0m \u001b[43m        \u001b[49m\u001b[43mdownstream\u001b[49m\u001b[43m \u001b[49m\u001b[38;5;241;43m=\u001b[39;49m\u001b[43m \u001b[49m\u001b[43m[\u001b[49m\u001b[38;5;241;43m1000\u001b[39;49m\u001b[43m,\u001b[49m\u001b[43m \u001b[49m\u001b[38;5;241;43m150000\u001b[39;49m\u001b[43m]\u001b[49m\u001b[43m,\u001b[49m\n\u001b[1;32m     11\u001b[0m \u001b[43m        \u001b[49m\u001b[43mcalculate_TF_eGRN_correlation\u001b[49m\u001b[43m \u001b[49m\u001b[38;5;241;43m=\u001b[39;49m\u001b[43m \u001b[49m\u001b[38;5;28;43;01mTrue\u001b[39;49;00m\u001b[43m,\u001b[49m\n\u001b[1;32m     12\u001b[0m \u001b[43m        \u001b[49m\u001b[43mcalculate_DEGs_DARs\u001b[49m\u001b[43m \u001b[49m\u001b[38;5;241;43m=\u001b[39;49m\u001b[43m \u001b[49m\u001b[38;5;28;43;01mTrue\u001b[39;49;00m\u001b[43m,\u001b[49m\n\u001b[1;32m     13\u001b[0m \u001b[43m        \u001b[49m\u001b[43mexport_to_loom_file\u001b[49m\u001b[43m \u001b[49m\u001b[38;5;241;43m=\u001b[39;49m\u001b[43m \u001b[49m\u001b[38;5;28;43;01mTrue\u001b[39;49;00m\u001b[43m,\u001b[49m\n\u001b[1;32m     14\u001b[0m \u001b[43m        \u001b[49m\u001b[43mexport_to_UCSC_file\u001b[49m\u001b[43m \u001b[49m\u001b[38;5;241;43m=\u001b[39;49m\u001b[43m \u001b[49m\u001b[38;5;28;43;01mTrue\u001b[39;49;00m\u001b[43m,\u001b[49m\n\u001b[1;32m     15\u001b[0m \u001b[43m        \u001b[49m\u001b[43mpath_bedToBigBed\u001b[49m\u001b[43m \u001b[49m\u001b[38;5;241;43m=\u001b[39;49m\u001b[43m \u001b[49m\u001b[38;5;124;43m'\u001b[39;49m\u001b[38;5;124;43m/home/roger/Github/OpenProblems/Conda/scenicplus/\u001b[39;49m\u001b[38;5;124;43m'\u001b[39;49m\u001b[43m,\u001b[49m\n\u001b[1;32m     16\u001b[0m \u001b[43m        \u001b[49m\u001b[43mn_cpu\u001b[49m\u001b[43m \u001b[49m\u001b[38;5;241;43m=\u001b[39;49m\u001b[43m \u001b[49m\u001b[38;5;241;43m10\u001b[39;49m\u001b[43m,\u001b[49m\n\u001b[1;32m     17\u001b[0m \u001b[43m        \u001b[49m\u001b[43m_temp_dir\u001b[49m\u001b[43m \u001b[49m\u001b[38;5;241;43m=\u001b[39;49m\u001b[43m \u001b[49m\u001b[38;5;124;43m'\u001b[39;49m\u001b[38;5;124;43m/home/roger/tempdir_rayspill\u001b[39;49m\u001b[38;5;124;43m'\u001b[39;49m\u001b[43m)\u001b[49m\n",
      "File \u001b[0;32m~/Github/OpenProblems/Conda/scenicplus/src/scenicplus/wrappers/run_scenicplus.py:143\u001b[0m, in \u001b[0;36mrun_scenicplus\u001b[0;34m(scplus_obj, variable, species, assembly, tf_file, save_path, biomart_host, upstream, downstream, region_ranking, gene_ranking, simplified_eGRN, calculate_TF_eGRN_correlation, calculate_DEGs_DARs, export_to_loom_file, export_to_UCSC_file, tree_structure, path_bedToBigBed, n_cpu, _temp_dir, save_partial, **kwargs)\u001b[0m\n\u001b[1;32m    141\u001b[0m \u001b[38;5;28;01mif\u001b[39;00m \u001b[38;5;124m'\u001b[39m\u001b[38;5;124mregion_to_gene\u001b[39m\u001b[38;5;124m'\u001b[39m \u001b[38;5;129;01mnot\u001b[39;00m \u001b[38;5;129;01min\u001b[39;00m scplus_obj\u001b[38;5;241m.\u001b[39muns\u001b[38;5;241m.\u001b[39mkeys():\n\u001b[1;32m    142\u001b[0m     log\u001b[38;5;241m.\u001b[39minfo(\u001b[38;5;124m'\u001b[39m\u001b[38;5;124mInferring region to gene relationships\u001b[39m\u001b[38;5;124m'\u001b[39m)\n\u001b[0;32m--> 143\u001b[0m     \u001b[43mcalculate_regions_to_genes_relationships\u001b[49m\u001b[43m(\u001b[49m\u001b[43mscplus_obj\u001b[49m\u001b[43m,\u001b[49m\u001b[43m \u001b[49m\n\u001b[1;32m    144\u001b[0m \u001b[43m                    \u001b[49m\u001b[43mray_n_cpu\u001b[49m\u001b[43m \u001b[49m\u001b[38;5;241;43m=\u001b[39;49m\u001b[43m \u001b[49m\u001b[43mn_cpu\u001b[49m\u001b[43m,\u001b[49m\u001b[43m \u001b[49m\n\u001b[1;32m    145\u001b[0m \u001b[43m                    \u001b[49m\u001b[43m_temp_dir\u001b[49m\u001b[43m \u001b[49m\u001b[38;5;241;43m=\u001b[39;49m\u001b[43m \u001b[49m\u001b[43m_temp_dir\u001b[49m\u001b[43m,\u001b[49m\n\u001b[1;32m    146\u001b[0m \u001b[43m                    \u001b[49m\u001b[43mimportance_scoring_method\u001b[49m\u001b[43m \u001b[49m\u001b[38;5;241;43m=\u001b[39;49m\u001b[43m \u001b[49m\u001b[38;5;124;43m'\u001b[39;49m\u001b[38;5;124;43mGBM\u001b[39;49m\u001b[38;5;124;43m'\u001b[39;49m\u001b[43m,\u001b[49m\n\u001b[1;32m    147\u001b[0m \u001b[43m                    \u001b[49m\u001b[43mimportance_scoring_kwargs\u001b[49m\u001b[43m \u001b[49m\u001b[38;5;241;43m=\u001b[39;49m\u001b[43m \u001b[49m\u001b[43mGBM_KWARGS\u001b[49m\u001b[43m,\u001b[49m\n\u001b[1;32m    148\u001b[0m \u001b[43m                    \u001b[49m\u001b[38;5;241;43m*\u001b[39;49m\u001b[38;5;241;43m*\u001b[39;49m\u001b[43mkwargs\u001b[49m\u001b[43m)\u001b[49m\n\u001b[1;32m    149\u001b[0m \u001b[38;5;28;01mif\u001b[39;00m save_partial:\n\u001b[1;32m    150\u001b[0m     log\u001b[38;5;241m.\u001b[39minfo(\u001b[38;5;124m'\u001b[39m\u001b[38;5;124mSaving partial object\u001b[39m\u001b[38;5;124m'\u001b[39m)\n",
      "File \u001b[0;32m~/Github/OpenProblems/Conda/scenicplus/src/scenicplus/enhancer_to_gene.py:654\u001b[0m, in \u001b[0;36mcalculate_regions_to_genes_relationships\u001b[0;34m(SCENICPLUS_obj, search_space_key, mask_expr_dropout, genes, importance_scoring_method, importance_scoring_kwargs, correlation_scoring_method, ray_n_cpu, add_distance, key_added, inplace, **kwargs)\u001b[0m\n\u001b[1;32m    651\u001b[0m log\u001b[38;5;241m.\u001b[39minfo(\n\u001b[1;32m    652\u001b[0m     \u001b[38;5;124mf\u001b[39m\u001b[38;5;124m'\u001b[39m\u001b[38;5;124mCalculating region to gene importances, using \u001b[39m\u001b[38;5;132;01m{\u001b[39;00mimportance_scoring_method\u001b[38;5;132;01m}\u001b[39;00m\u001b[38;5;124m method\u001b[39m\u001b[38;5;124m'\u001b[39m)\n\u001b[1;32m    653\u001b[0m start_time \u001b[38;5;241m=\u001b[39m time\u001b[38;5;241m.\u001b[39mtime()\n\u001b[0;32m--> 654\u001b[0m region_to_gene_importances \u001b[38;5;241m=\u001b[39m \u001b[43m_score_regions_to_genes\u001b[49m\u001b[43m(\u001b[49m\u001b[43mSCENICPLUS_obj\u001b[49m\u001b[43m,\u001b[49m\n\u001b[1;32m    655\u001b[0m \u001b[43m                                                    \u001b[49m\u001b[43msearch_space\u001b[49m\u001b[38;5;241;43m=\u001b[39;49m\u001b[43msearch_space\u001b[49m\u001b[43m,\u001b[49m\n\u001b[1;32m    656\u001b[0m \u001b[43m                                                    \u001b[49m\u001b[43mmask_expr_dropout\u001b[49m\u001b[38;5;241;43m=\u001b[39;49m\u001b[43mmask_expr_dropout\u001b[49m\u001b[43m,\u001b[49m\n\u001b[1;32m    657\u001b[0m \u001b[43m                                                    \u001b[49m\u001b[43mgenes\u001b[49m\u001b[38;5;241;43m=\u001b[39;49m\u001b[43mgenes\u001b[49m\u001b[43m,\u001b[49m\n\u001b[1;32m    658\u001b[0m \u001b[43m                                                    \u001b[49m\u001b[43mregressor_type\u001b[49m\u001b[38;5;241;43m=\u001b[39;49m\u001b[43mimportance_scoring_method\u001b[49m\u001b[43m,\u001b[49m\n\u001b[1;32m    659\u001b[0m \u001b[43m                                                    \u001b[49m\u001b[43mregressor_kwargs\u001b[49m\u001b[38;5;241;43m=\u001b[39;49m\u001b[43mimportance_scoring_kwargs\u001b[49m\u001b[43m,\u001b[49m\n\u001b[1;32m    660\u001b[0m \u001b[43m                                                    \u001b[49m\u001b[43mray_n_cpu\u001b[49m\u001b[38;5;241;43m=\u001b[39;49m\u001b[43mray_n_cpu\u001b[49m\u001b[43m,\u001b[49m\n\u001b[1;32m    661\u001b[0m \u001b[43m                                                    \u001b[49m\u001b[38;5;241;43m*\u001b[39;49m\u001b[38;5;241;43m*\u001b[39;49m\u001b[43mkwargs\u001b[49m\u001b[43m)\u001b[49m\n\u001b[1;32m    662\u001b[0m log\u001b[38;5;241m.\u001b[39minfo(\u001b[38;5;124m'\u001b[39m\u001b[38;5;124mTook \u001b[39m\u001b[38;5;132;01m{}\u001b[39;00m\u001b[38;5;124m seconds\u001b[39m\u001b[38;5;124m'\u001b[39m\u001b[38;5;241m.\u001b[39mformat(time\u001b[38;5;241m.\u001b[39mtime() \u001b[38;5;241m-\u001b[39m start_time))\n\u001b[1;32m    664\u001b[0m \u001b[38;5;66;03m# calculate region to gene correlation\u001b[39;00m\n",
      "File \u001b[0;32m~/Github/OpenProblems/Conda/scenicplus/src/scenicplus/enhancer_to_gene.py:531\u001b[0m, in \u001b[0;36m_score_regions_to_genes\u001b[0;34m(SCENICPLUS_obj, search_space, mask_expr_dropout, genes, regressor_type, ray_n_cpu, regressor_kwargs, **kwargs)\u001b[0m\n\u001b[1;32m    529\u001b[0m jobs \u001b[38;5;241m=\u001b[39m []\n\u001b[1;32m    530\u001b[0m \u001b[38;5;28;01mfor\u001b[39;00m gene \u001b[38;5;129;01min\u001b[39;00m tqdm(genes_to_use, total\u001b[38;5;241m=\u001b[39m\u001b[38;5;28mlen\u001b[39m(genes_to_use), desc\u001b[38;5;241m=\u001b[39m\u001b[38;5;124m'\u001b[39m\u001b[38;5;124minitializing\u001b[39m\u001b[38;5;124m'\u001b[39m):\n\u001b[0;32m--> 531\u001b[0m     regions_in_search_space \u001b[38;5;241m=\u001b[39m search_space\u001b[38;5;241m.\u001b[39mloc[\u001b[43msearch_space\u001b[49m\u001b[43m[\u001b[49m\u001b[38;5;124;43m'\u001b[39;49m\u001b[38;5;124;43mGene\u001b[39;49m\u001b[38;5;124;43m'\u001b[39;49m\u001b[43m]\u001b[49m\n\u001b[1;32m    532\u001b[0m \u001b[43m                                               \u001b[49m\u001b[38;5;241;43m==\u001b[39;49m\u001b[43m \u001b[49m\u001b[43mgene\u001b[49m, \u001b[38;5;124m'\u001b[39m\u001b[38;5;124mName\u001b[39m\u001b[38;5;124m'\u001b[39m]\u001b[38;5;241m.\u001b[39mvalues\n\u001b[1;32m    533\u001b[0m     \u001b[38;5;28;01mif\u001b[39;00m mask_expr_dropout:\n\u001b[1;32m    534\u001b[0m         expr \u001b[38;5;241m=\u001b[39m EXP_df[gene]\n",
      "File \u001b[0;32m~/.local/lib/python3.8/site-packages/pandas/core/ops/common.py:81\u001b[0m, in \u001b[0;36m_unpack_zerodim_and_defer.<locals>.new_method\u001b[0;34m(self, other)\u001b[0m\n\u001b[1;32m     77\u001b[0m             \u001b[38;5;28;01mreturn\u001b[39;00m \u001b[38;5;28mNotImplemented\u001b[39m\n\u001b[1;32m     79\u001b[0m other \u001b[38;5;241m=\u001b[39m item_from_zerodim(other)\n\u001b[0;32m---> 81\u001b[0m \u001b[38;5;28;01mreturn\u001b[39;00m \u001b[43mmethod\u001b[49m\u001b[43m(\u001b[49m\u001b[38;5;28;43mself\u001b[39;49m\u001b[43m,\u001b[49m\u001b[43m \u001b[49m\u001b[43mother\u001b[49m\u001b[43m)\u001b[49m\n",
      "File \u001b[0;32m~/.local/lib/python3.8/site-packages/pandas/core/arraylike.py:40\u001b[0m, in \u001b[0;36mOpsMixin.__eq__\u001b[0;34m(self, other)\u001b[0m\n\u001b[1;32m     38\u001b[0m \u001b[38;5;129m@unpack_zerodim_and_defer\u001b[39m(\u001b[38;5;124m\"\u001b[39m\u001b[38;5;124m__eq__\u001b[39m\u001b[38;5;124m\"\u001b[39m)\n\u001b[1;32m     39\u001b[0m \u001b[38;5;28;01mdef\u001b[39;00m \u001b[38;5;21m__eq__\u001b[39m(\u001b[38;5;28mself\u001b[39m, other):\n\u001b[0;32m---> 40\u001b[0m     \u001b[38;5;28;01mreturn\u001b[39;00m \u001b[38;5;28;43mself\u001b[39;49m\u001b[38;5;241;43m.\u001b[39;49m\u001b[43m_cmp_method\u001b[49m\u001b[43m(\u001b[49m\u001b[43mother\u001b[49m\u001b[43m,\u001b[49m\u001b[43m \u001b[49m\u001b[43moperator\u001b[49m\u001b[38;5;241;43m.\u001b[39;49m\u001b[43meq\u001b[49m\u001b[43m)\u001b[49m\n",
      "File \u001b[0;32m~/.local/lib/python3.8/site-packages/pandas/core/series.py:6096\u001b[0m, in \u001b[0;36mSeries._cmp_method\u001b[0;34m(self, other, op)\u001b[0m\n\u001b[1;32m   6093\u001b[0m rvalues \u001b[38;5;241m=\u001b[39m extract_array(other, extract_numpy\u001b[38;5;241m=\u001b[39m\u001b[38;5;28;01mTrue\u001b[39;00m, extract_range\u001b[38;5;241m=\u001b[39m\u001b[38;5;28;01mTrue\u001b[39;00m)\n\u001b[1;32m   6095\u001b[0m \u001b[38;5;28;01mwith\u001b[39;00m np\u001b[38;5;241m.\u001b[39merrstate(\u001b[38;5;28mall\u001b[39m\u001b[38;5;241m=\u001b[39m\u001b[38;5;124m\"\u001b[39m\u001b[38;5;124mignore\u001b[39m\u001b[38;5;124m\"\u001b[39m):\n\u001b[0;32m-> 6096\u001b[0m     res_values \u001b[38;5;241m=\u001b[39m \u001b[43mops\u001b[49m\u001b[38;5;241;43m.\u001b[39;49m\u001b[43mcomparison_op\u001b[49m\u001b[43m(\u001b[49m\u001b[43mlvalues\u001b[49m\u001b[43m,\u001b[49m\u001b[43m \u001b[49m\u001b[43mrvalues\u001b[49m\u001b[43m,\u001b[49m\u001b[43m \u001b[49m\u001b[43mop\u001b[49m\u001b[43m)\u001b[49m\n\u001b[1;32m   6098\u001b[0m \u001b[38;5;28;01mreturn\u001b[39;00m \u001b[38;5;28mself\u001b[39m\u001b[38;5;241m.\u001b[39m_construct_result(res_values, name\u001b[38;5;241m=\u001b[39mres_name)\n",
      "File \u001b[0;32m~/.local/lib/python3.8/site-packages/pandas/core/ops/array_ops.py:293\u001b[0m, in \u001b[0;36mcomparison_op\u001b[0;34m(left, right, op)\u001b[0m\n\u001b[1;32m    290\u001b[0m     \u001b[38;5;28;01mreturn\u001b[39;00m invalid_comparison(lvalues, rvalues, op)\n\u001b[1;32m    292\u001b[0m \u001b[38;5;28;01melif\u001b[39;00m is_object_dtype(lvalues\u001b[38;5;241m.\u001b[39mdtype) \u001b[38;5;129;01mor\u001b[39;00m \u001b[38;5;28misinstance\u001b[39m(rvalues, \u001b[38;5;28mstr\u001b[39m):\n\u001b[0;32m--> 293\u001b[0m     res_values \u001b[38;5;241m=\u001b[39m \u001b[43mcomp_method_OBJECT_ARRAY\u001b[49m\u001b[43m(\u001b[49m\u001b[43mop\u001b[49m\u001b[43m,\u001b[49m\u001b[43m \u001b[49m\u001b[43mlvalues\u001b[49m\u001b[43m,\u001b[49m\u001b[43m \u001b[49m\u001b[43mrvalues\u001b[49m\u001b[43m)\u001b[49m\n\u001b[1;32m    295\u001b[0m \u001b[38;5;28;01melse\u001b[39;00m:\n\u001b[1;32m    296\u001b[0m     res_values \u001b[38;5;241m=\u001b[39m _na_arithmetic_op(lvalues, rvalues, op, is_cmp\u001b[38;5;241m=\u001b[39m\u001b[38;5;28;01mTrue\u001b[39;00m)\n",
      "File \u001b[0;32m~/.local/lib/python3.8/site-packages/pandas/core/ops/array_ops.py:82\u001b[0m, in \u001b[0;36mcomp_method_OBJECT_ARRAY\u001b[0;34m(op, x, y)\u001b[0m\n\u001b[1;32m     80\u001b[0m     result \u001b[38;5;241m=\u001b[39m libops\u001b[38;5;241m.\u001b[39mvec_compare(x\u001b[38;5;241m.\u001b[39mravel(), y\u001b[38;5;241m.\u001b[39mravel(), op)\n\u001b[1;32m     81\u001b[0m \u001b[38;5;28;01melse\u001b[39;00m:\n\u001b[0;32m---> 82\u001b[0m     result \u001b[38;5;241m=\u001b[39m \u001b[43mlibops\u001b[49m\u001b[38;5;241;43m.\u001b[39;49m\u001b[43mscalar_compare\u001b[49m\u001b[43m(\u001b[49m\u001b[43mx\u001b[49m\u001b[38;5;241;43m.\u001b[39;49m\u001b[43mravel\u001b[49m\u001b[43m(\u001b[49m\u001b[43m)\u001b[49m\u001b[43m,\u001b[49m\u001b[43m \u001b[49m\u001b[43my\u001b[49m\u001b[43m,\u001b[49m\u001b[43m \u001b[49m\u001b[43mop\u001b[49m\u001b[43m)\u001b[49m\n\u001b[1;32m     83\u001b[0m \u001b[38;5;28;01mreturn\u001b[39;00m result\u001b[38;5;241m.\u001b[39mreshape(x\u001b[38;5;241m.\u001b[39mshape)\n",
      "\u001b[0;31mKeyboardInterrupt\u001b[0m: "
     ]
    }
   ],
   "source": [
    "run_scenicplus(\n",
    "        scplus_obj = scplus_obj,\n",
    "        variable = ['GEX_celltype'],\n",
    "        species = 'hsapiens',\n",
    "        assembly = 'hg38',\n",
    "        tf_file = '/home/roger/Github/OpenProblems/Conda/scenicplus/TF_names_v_1.01.txt',\n",
    "        save_path = os.path.join('/home/roger/Github/OpenProblems/Conda/scenicplus/Tutorial'),\n",
    "        #biomart_host = biomart_host,\n",
    "        upstream = [1000, 150000],\n",
    "        downstream = [1000, 150000],\n",
    "        calculate_TF_eGRN_correlation = True,\n",
    "        calculate_DEGs_DARs = True,\n",
    "        export_to_loom_file = True,\n",
    "        export_to_UCSC_file = True,\n",
    "        path_bedToBigBed = '/home/roger/Github/OpenProblems/Conda/scenicplus/',\n",
    "        n_cpu = 10,\n",
    "        _temp_dir = '/home/roger/tempdir_rayspill')"
   ]
  }
 ],
 "metadata": {
  "kernelspec": {
   "display_name": "Python 3 (ipykernel)",
   "language": "python",
   "name": "python3"
  },
  "language_info": {
   "codemirror_mode": {
    "name": "ipython",
    "version": 3
   },
   "file_extension": ".py",
   "mimetype": "text/x-python",
   "name": "python",
   "nbconvert_exporter": "python",
   "pygments_lexer": "ipython3",
   "version": "3.8.18"
  }
 },
 "nbformat": 4,
 "nbformat_minor": 5
}
